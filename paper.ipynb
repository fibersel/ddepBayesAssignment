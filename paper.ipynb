$$1)Droupout speedup using replacing weighted sum of M Bernoulli random variables with one normal disributed random variable$$
